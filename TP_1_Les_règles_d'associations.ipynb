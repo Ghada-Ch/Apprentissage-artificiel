{
  "nbformat": 4,
  "nbformat_minor": 0,
  "metadata": {
    "colab": {
      "provenance": []
    },
    "kernelspec": {
      "name": "python3",
      "display_name": "Python 3"
    },
    "language_info": {
      "name": "python"
    }
  },
  "cells": [
    {
      "cell_type": "code",
      "execution_count": 83,
      "metadata": {
        "id": "coZ-ARfR4-jL"
      },
      "outputs": [],
      "source": [
        "import numpy as np\n",
        "import pandas as pd\n",
        "from pandas.core.dtypes.generic import (\n",
        "    ABCSeries,\n",
        ")\n",
        "from pandas import DataFrame\n"
      ]
    },
    {
      "cell_type": "markdown",
      "source": [
        "\n",
        "\n",
        "1.   Importation des données\n"
      ],
      "metadata": {
        "id": "KoWmn2T99PDH"
      }
    },
    {
      "cell_type": "code",
      "source": [
        "data = pd.read_table('sample_data/market_basket.txt', delimiter=\"\\t\",header=0)\n",
        "data.info()"
      ],
      "metadata": {
        "colab": {
          "base_uri": "https://localhost:8080/"
        },
        "id": "1modj1t-9n3-",
        "outputId": "fcd07760-01a2-4ef0-b0ee-a4df9b470ae4"
      },
      "execution_count": 84,
      "outputs": [
        {
          "output_type": "stream",
          "name": "stdout",
          "text": [
            "<class 'pandas.core.frame.DataFrame'>\n",
            "RangeIndex: 12935 entries, 0 to 12934\n",
            "Data columns (total 2 columns):\n",
            " #   Column   Non-Null Count  Dtype \n",
            "---  ------   --------------  ----- \n",
            " 0   ID       12935 non-null  int64 \n",
            " 1   Product  12935 non-null  object\n",
            "dtypes: int64(1), object(1)\n",
            "memory usage: 202.2+ KB\n"
          ]
        }
      ]
    },
    {
      "cell_type": "markdown",
      "source": [
        "2.   Affiche des 10 premières lignes du DataFrame\n",
        "\n"
      ],
      "metadata": {
        "id": "gs6spcdP_7P9"
      }
    },
    {
      "cell_type": "code",
      "source": [
        "print(data.head(10))"
      ],
      "metadata": {
        "colab": {
          "base_uri": "https://localhost:8080/"
        },
        "id": "n_8xrvBdAEcl",
        "outputId": "6ede2dcf-1b6a-47ad-f2f1-0b99ff39c62b"
      },
      "execution_count": 85,
      "outputs": [
        {
          "output_type": "stream",
          "name": "stdout",
          "text": [
            "   ID                   Product\n",
            "0   1                   Peaches\n",
            "1   2             Vegetable_Oil\n",
            "2   2               Frozen_Corn\n",
            "3   3                     Plums\n",
            "4   4               Pancake_Mix\n",
            "5   5                    Cheese\n",
            "6   6               Cauliflower\n",
            "7   7                 2pct_Milk\n",
            "8   8  98pct_Fat_Free_Hamburger\n",
            "9   8              Potato_Chips\n"
          ]
        }
      ]
    },
    {
      "cell_type": "markdown",
      "source": [
        "3. Affiche les dimensions du dataframe\n"
      ],
      "metadata": {
        "id": "vnKyIJZcASzs"
      }
    },
    {
      "cell_type": "code",
      "source": [
        "print(data.shape)"
      ],
      "metadata": {
        "colab": {
          "base_uri": "https://localhost:8080/"
        },
        "id": "4IQ87HLQAd3F",
        "outputId": "b9644bca-e4e5-48da-9630-48c7da50ed6c"
      },
      "execution_count": 86,
      "outputs": [
        {
          "output_type": "stream",
          "name": "stdout",
          "text": [
            "(12935, 2)\n"
          ]
        }
      ]
    },
    {
      "cell_type": "markdown",
      "source": [
        "4. Script python qui permet de Construire un table binaire"
      ],
      "metadata": {
        "id": "Hdqywq5bBw8k"
      }
    },
    {
      "cell_type": "code",
      "source": [
        "def get_names(arrs, names, prefix):\n",
        "    \n",
        "    names = []\n",
        "    for i, arr in enumerate(arrs):\n",
        "          if isinstance(arr, ABCSeries) and arr.name is not None:\n",
        "               names.append(arr.name)\n",
        "          else:\n",
        "               names.append(f\"{prefix}_{i}\")\n",
        "    return names\n",
        "   \n",
        "\n",
        "def BinTab (data) -> pd.DataFrame:\n",
        "  values=None,\n",
        "  rownames=None,\n",
        "  colnames=None,\n",
        "  \n",
        "  index = [data.ID]\n",
        "  columns = [data.Product]\n",
        "  rownames = get_names(index,rownames,prefix=\"ID\")\n",
        "  colnames = get_names(columns,colnames,prefix=\"Product\")\n",
        "  tab = _mapper(rownames, colnames)\n",
        "#To complete\n",
        "\n",
        "BinTab(data)"
      ],
      "metadata": {
        "id": "_UsAunSxghoS"
      },
      "execution_count": null,
      "outputs": []
    },
    {
      "cell_type": "markdown",
      "source": [
        "5. pandas.crosstab"
      ],
      "metadata": {
        "id": "N1VzI7iKI_dK"
      }
    },
    {
      "cell_type": "code",
      "source": [
        "TC= pd.crosstab(data.ID,data.Product)\n",
        "#print(TC)"
      ],
      "metadata": {
        "id": "t4CLUKZhJIk7"
      },
      "execution_count": 87,
      "outputs": []
    },
    {
      "cell_type": "markdown",
      "source": [
        "6. Les 30 premières transactions et les 3 premiers produits"
      ],
      "metadata": {
        "id": "GlHYwdYezZAl"
      }
    },
    {
      "cell_type": "code",
      "source": [
        "print(TC.iloc[:30,:3])"
      ],
      "metadata": {
        "colab": {
          "base_uri": "https://localhost:8080/"
        },
        "id": "72kpMN6Xzio2",
        "outputId": "e7dfbadf-8914-4887-a544-4df8d664ab4b"
      },
      "execution_count": 88,
      "outputs": [
        {
          "output_type": "stream",
          "name": "stdout",
          "text": [
            "Product  100_Watt_Lightbulb  2pct_Milk  40_Watt_Lightbulb\n",
            "ID                                                       \n",
            "1                         0          0                  0\n",
            "2                         0          0                  0\n",
            "3                         0          0                  0\n",
            "4                         0          0                  0\n",
            "5                         0          0                  0\n",
            "6                         0          0                  0\n",
            "7                         0          1                  0\n",
            "8                         0          0                  0\n",
            "9                         0          0                  0\n",
            "10                        0          0                  0\n",
            "11                        0          0                  0\n",
            "12                        0          0                  0\n",
            "13                        0          0                  0\n",
            "14                        0          0                  0\n",
            "15                        0          0                  0\n",
            "16                        0          0                  0\n",
            "17                        0          0                  0\n",
            "18                        0          0                  0\n",
            "19                        0          0                  0\n",
            "20                        0          0                  0\n",
            "21                        0          0                  0\n",
            "22                        0          0                  0\n",
            "23                        0          0                  0\n",
            "24                        0          0                  0\n",
            "25                        0          1                  0\n",
            "26                        1          0                  0\n",
            "27                        0          0                  0\n",
            "28                        0          1                  0\n",
            "29                        0          1                  0\n",
            "30                        0          0                  0\n"
          ]
        }
      ]
    },
    {
      "cell_type": "markdown",
      "source": [
        "7. Script python de la fonction a_priori()"
      ],
      "metadata": {
        "id": "MpZIdFlWz9GN"
      }
    },
    {
      "cell_type": "code",
      "source": [
        "from mlxtend.frequent_patterns import apriori"
      ],
      "metadata": {
        "id": "hA_cmvJV0KEG"
      },
      "execution_count": 89,
      "outputs": []
    },
    {
      "cell_type": "code",
      "source": [
        "freq_itemsets = apriori(TC,min_support=0.025,max_len=4,use_colnames=True)\n",
        "print(freq_itemsets)"
      ],
      "metadata": {
        "colab": {
          "base_uri": "https://localhost:8080/"
        },
        "id": "fRm-S2qM1V_9",
        "outputId": "86caaa7f-96aa-4a9d-a378-276673620266"
      },
      "execution_count": 90,
      "outputs": [
        {
          "output_type": "stream",
          "name": "stdout",
          "text": [
            "      support                                           itemsets\n",
            "0    0.030147                               (100_Watt_Lightbulb)\n",
            "1    0.109559                                        (2pct_Milk)\n",
            "2    0.037500                                (60_Watt_Lightbulb)\n",
            "3    0.031618                                (75_Watt_Lightbulb)\n",
            "4    0.093382                         (98pct_Fat_Free_Hamburger)\n",
            "..        ...                                                ...\n",
            "598  0.025735                (Toothpaste, White_Bread, Tomatoes)\n",
            "599  0.026471             (Toothpaste, White_Bread, Wheat_Bread)\n",
            "600  0.026471       (2pct_Milk, Potato_Chips, White_Bread, Eggs)\n",
            "601  0.025735         (Toothpaste, 2pct_Milk, White_Bread, Eggs)\n",
            "602  0.025000  (Toothpaste, White_Bread, Potato_Chips, 2pct_M...\n",
            "\n",
            "[603 rows x 2 columns]\n"
          ]
        }
      ]
    },
    {
      "cell_type": "markdown",
      "source": [
        "8.  Les 15 premiers itemsets"
      ],
      "metadata": {
        "id": "VOGjQb051rnU"
      }
    },
    {
      "cell_type": "code",
      "source": [
        "print(freq_itemsets.head(15))"
      ],
      "metadata": {
        "colab": {
          "base_uri": "https://localhost:8080/"
        },
        "id": "jDA6yvmc1uOU",
        "outputId": "af159e65-a26b-42f6-c419-6c24c587f0d3"
      },
      "execution_count": 91,
      "outputs": [
        {
          "output_type": "stream",
          "name": "stdout",
          "text": [
            "     support                    itemsets\n",
            "0   0.030147        (100_Watt_Lightbulb)\n",
            "1   0.109559                 (2pct_Milk)\n",
            "2   0.037500         (60_Watt_Lightbulb)\n",
            "3   0.031618         (75_Watt_Lightbulb)\n",
            "4   0.093382  (98pct_Fat_Free_Hamburger)\n",
            "5   0.031618         (AA_Cell_Batteries)\n",
            "6   0.025735    (Apple_Cinnamon_Waffles)\n",
            "7   0.026471               (Apple_Drink)\n",
            "8   0.031618          (Apple_Fruit_Roll)\n",
            "9   0.032353                 (Apple_Jam)\n",
            "10  0.033088               (Apple_Jelly)\n",
            "11  0.032353               (Apple_Sauce)\n",
            "12  0.053676                    (Apples)\n",
            "13  0.066912                   (Aspirin)\n",
            "14  0.027941               (Avocado_Dip)\n"
          ]
        }
      ]
    },
    {
      "cell_type": "markdown",
      "source": [
        "9. Vérification si un sous-ensemble\n",
        "items est inclus dans l’ensemble x"
      ],
      "metadata": {
        "id": "J0Lftjku2J5s"
      }
    },
    {
      "cell_type": "code",
      "source": [
        "def is_inclus(x,items):\n",
        "  return items.issubset(x)"
      ],
      "metadata": {
        "id": "9zOkYe3G2PTF"
      },
      "execution_count": 92,
      "outputs": []
    },
    {
      "cell_type": "markdown",
      "source": [
        "10. Affiche des itemsets comprenant le produit ‘Aspirin’"
      ],
      "metadata": {
        "id": "2vaDrP0q2q2W"
      }
    },
    {
      "cell_type": "code",
      "source": [
        "id = np.where(freq_itemsets.itemsets.apply(is_inclus,items={'Aspirin'}))\n",
        "print(id)"
      ],
      "metadata": {
        "colab": {
          "base_uri": "https://localhost:8080/"
        },
        "id": "9tE45J782hvs",
        "outputId": "4e2f1ea4-d7c7-4dac-d8dc-97df4a60ec2c"
      },
      "execution_count": 93,
      "outputs": [
        {
          "output_type": "stream",
          "name": "stdout",
          "text": [
            "(array([ 13, 208, 249, 272, 273, 274, 275, 276, 277, 278, 279, 280, 281,\n",
            "       282, 283, 284, 285, 286, 509, 510, 511, 552, 553, 554, 555, 556]),)\n"
          ]
        }
      ]
    },
    {
      "cell_type": "markdown",
      "source": [
        "11. Afficher les itemsets contenant Aspirin et Eggs"
      ],
      "metadata": {
        "id": "AD5kxiI93R5Z"
      }
    },
    {
      "cell_type": "code",
      "source": [
        "print(freq_itemsets[freq_itemsets['itemsets'].ge({'Aspirin','Eggs'})])"
      ],
      "metadata": {
        "colab": {
          "base_uri": "https://localhost:8080/"
        },
        "id": "1UwR6TBc3Tm0",
        "outputId": "f4cbd741-7490-481c-a729-ccfb0ee39c5e"
      },
      "execution_count": 94,
      "outputs": [
        {
          "output_type": "stream",
          "name": "stdout",
          "text": [
            "      support                       itemsets\n",
            "274  0.038235                (Aspirin, Eggs)\n",
            "509  0.025735     (Eggs, Aspirin, 2pct_Milk)\n",
            "552  0.025000  (Potato_Chips, Aspirin, Eggs)\n",
            "553  0.029412   (White_Bread, Aspirin, Eggs)\n"
          ]
        }
      ]
    },
    {
      "cell_type": "markdown",
      "source": [
        "12. Règles des association"
      ],
      "metadata": {
        "id": "5FqIj_pi3j7k"
      }
    },
    {
      "cell_type": "code",
      "source": [
        "from mlxtend.frequent_patterns import association_rules"
      ],
      "metadata": {
        "id": "Ee_hu2f93nYE"
      },
      "execution_count": 95,
      "outputs": []
    },
    {
      "cell_type": "code",
      "source": [
        "regles = association_rules(freq_itemsets,metric=\"confidence\",min_threshold=0.75)"
      ],
      "metadata": {
        "id": "vSUiLch43o4M"
      },
      "execution_count": 96,
      "outputs": []
    },
    {
      "cell_type": "markdown",
      "source": [
        "13. 5 premières règles"
      ],
      "metadata": {
        "id": "XhNKkIcG3vO0"
      }
    },
    {
      "cell_type": "code",
      "source": [
        "print(regles.iloc[:5,:])"
      ],
      "metadata": {
        "colab": {
          "base_uri": "https://localhost:8080/"
        },
        "id": "zMCygyA53xPs",
        "outputId": "be26be37-0188-4e8d-e695-0d6d5cda0e34"
      },
      "execution_count": 97,
      "outputs": [
        {
          "output_type": "stream",
          "name": "stdout",
          "text": [
            "                 antecedents    consequents  antecedent support  \\\n",
            "0       (Aspirin, 2pct_Milk)  (White_Bread)            0.034559   \n",
            "1     (Bananas, White_Bread)    (2pct_Milk)            0.032353   \n",
            "2       (Bananas, 2pct_Milk)  (White_Bread)            0.031618   \n",
            "3        (Cola, Wheat_Bread)    (2pct_Milk)            0.032353   \n",
            "4  (Popcorn_Salt, 2pct_Milk)         (Eggs)            0.033088   \n",
            "\n",
            "   consequent support   support  confidence      lift  leverage  conviction  \n",
            "0            0.119118  0.027206    0.787234  6.608878  0.023089    4.140147  \n",
            "1            0.109559  0.025735    0.795455  7.260525  0.022191    4.353268  \n",
            "2            0.119118  0.025735    0.813953  6.833190  0.021969    4.734743  \n",
            "3            0.109559  0.025735    0.795455  7.260525  0.022191    4.353268  \n",
            "4            0.122794  0.027206    0.822222  6.695941  0.023143    4.934283  \n"
          ]
        }
      ]
    },
    {
      "cell_type": "markdown",
      "source": [
        "14. LIFT supérieur ou égal à 7"
      ],
      "metadata": {
        "id": "cYQBcY744Koc"
      }
    },
    {
      "cell_type": "code",
      "source": [
        "print(regles[regles['lift'].ge(7.0)])"
      ],
      "metadata": {
        "colab": {
          "base_uri": "https://localhost:8080/"
        },
        "id": "SJ68xIJ54MeU",
        "outputId": "c249dc08-7b51-4c20-d489-d524a3206ff3"
      },
      "execution_count": 81,
      "outputs": [
        {
          "output_type": "stream",
          "name": "stdout",
          "text": [
            "                                antecedents                 consequents  \\\n",
            "1                    (Bananas, White_Bread)                 (2pct_Milk)   \n",
            "3                       (Cola, Wheat_Bread)                 (2pct_Milk)   \n",
            "8                     (Onions, Wheat_Bread)                 (2pct_Milk)   \n",
            "10                  (Potatoes, Wheat_Bread)                 (2pct_Milk)   \n",
            "13                (Toothpaste, Wheat_Bread)                 (2pct_Milk)   \n",
            "16            (White_Bread, Hamburger_Buns)  (98pct_Fat_Free_Hamburger)   \n",
            "17  (98pct_Fat_Free_Hamburger, Wheat_Bread)               (White_Bread)   \n",
            "29             (Sweet_Relish, Hot_Dog_Buns)                  (Hot_Dogs)   \n",
            "35                 (Potatoes, Toilet_Paper)               (White_Bread)   \n",
            "37               (Toothpaste, Toilet_Paper)               (White_Bread)   \n",
            "42        (White_Bread, Potato_Chips, Eggs)                 (2pct_Milk)   \n",
            "45          (Toothpaste, White_Bread, Eggs)                 (2pct_Milk)   \n",
            "46  (Toothpaste, White_Bread, Potato_Chips)                 (2pct_Milk)   \n",
            "47     (Toothpaste, White_Bread, 2pct_Milk)              (Potato_Chips)   \n",
            "48    (Toothpaste, Potato_Chips, 2pct_Milk)               (White_Bread)   \n",
            "49   (White_Bread, Potato_Chips, 2pct_Milk)                (Toothpaste)   \n",
            "\n",
            "    antecedent support  consequent support   support  confidence      lift  \\\n",
            "1             0.032353            0.109559  0.025735    0.795455  7.260525   \n",
            "3             0.032353            0.109559  0.025735    0.795455  7.260525   \n",
            "8             0.034559            0.109559  0.028676    0.829787  7.573897   \n",
            "10            0.032353            0.109559  0.025000    0.772727  7.053081   \n",
            "13            0.034559            0.109559  0.027941    0.808511  7.379694   \n",
            "16            0.034559            0.093382  0.026471    0.765957  8.202379   \n",
            "17            0.029412            0.119118  0.026471    0.900000  7.555556   \n",
            "29            0.036029            0.092647  0.030147    0.836735  9.031422   \n",
            "35            0.028676            0.119118  0.025000    0.871795  7.318772   \n",
            "37            0.029412            0.119118  0.025735    0.875000  7.345679   \n",
            "42            0.033824            0.109559  0.026471    0.782609  7.143274   \n",
            "45            0.032353            0.109559  0.025735    0.795455  7.260525   \n",
            "46            0.030147            0.109559  0.025000    0.829268  7.569160   \n",
            "47            0.033088            0.097794  0.025000    0.755556  7.725982   \n",
            "48            0.028676            0.119118  0.025000    0.871795  7.318772   \n",
            "49            0.033088            0.079412  0.025000    0.755556  9.514403   \n",
            "\n",
            "    leverage  conviction  \n",
            "1   0.022191    4.353268  \n",
            "3   0.022191    4.353268  \n",
            "8   0.024890    5.231342  \n",
            "10  0.021455    3.917941  \n",
            "13  0.024155    4.650082  \n",
            "16  0.023243    3.873730  \n",
            "17  0.022967    8.808824  \n",
            "29  0.026809    5.557537  \n",
            "35  0.021584    6.870882  \n",
            "37  0.022232    7.047059  \n",
            "42  0.022765    4.096029  \n",
            "45  0.022191    4.353268  \n",
            "46  0.021697    5.215441  \n",
            "47  0.021764    3.690842  \n",
            "48  0.021584    6.870882  \n",
            "49  0.022372    3.766043  \n"
          ]
        }
      ]
    },
    {
      "cell_type": "markdown",
      "source": [
        "15. Filtre des règles qu' affiche celles menant au conséquent {‘2pct_milk’}"
      ],
      "metadata": {
        "id": "2o5VTcwF47HT"
      }
    },
    {
      "cell_type": "code",
      "source": [
        "print(regles[regles['consequents'].eq({'2pct_Milk'})])"
      ],
      "metadata": {
        "colab": {
          "base_uri": "https://localhost:8080/"
        },
        "id": "qckn-rIG5EOE",
        "outputId": "8466e13b-ff6b-4c00-9968-726d4d899469"
      },
      "execution_count": 82,
      "outputs": [
        {
          "output_type": "stream",
          "name": "stdout",
          "text": [
            "                                antecedents  consequents  antecedent support  \\\n",
            "1                    (Bananas, White_Bread)  (2pct_Milk)            0.032353   \n",
            "3                       (Cola, Wheat_Bread)  (2pct_Milk)            0.032353   \n",
            "7                       (Eggs, Wheat_Bread)  (2pct_Milk)            0.040441   \n",
            "8                     (Onions, Wheat_Bread)  (2pct_Milk)            0.034559   \n",
            "9                (Toothpaste, Potato_Chips)  (2pct_Milk)            0.037500   \n",
            "10                  (Potatoes, Wheat_Bread)  (2pct_Milk)            0.032353   \n",
            "13                (Toothpaste, Wheat_Bread)  (2pct_Milk)            0.034559   \n",
            "42        (White_Bread, Potato_Chips, Eggs)  (2pct_Milk)            0.033824   \n",
            "45          (Toothpaste, White_Bread, Eggs)  (2pct_Milk)            0.032353   \n",
            "46  (Toothpaste, White_Bread, Potato_Chips)  (2pct_Milk)            0.030147   \n",
            "\n",
            "    consequent support   support  confidence      lift  leverage  conviction  \n",
            "1             0.109559  0.025735    0.795455  7.260525  0.022191    4.353268  \n",
            "3             0.109559  0.025735    0.795455  7.260525  0.022191    4.353268  \n",
            "7             0.109559  0.030882    0.763636  6.970104  0.026452    3.767251  \n",
            "8             0.109559  0.028676    0.829787  7.573897  0.024890    5.231342  \n",
            "9             0.109559  0.028676    0.764706  6.979866  0.024568    3.784375  \n",
            "10            0.109559  0.025000    0.772727  7.053081  0.021455    3.917941  \n",
            "13            0.109559  0.027941    0.808511  7.379694  0.024155    4.650082  \n",
            "42            0.109559  0.026471    0.782609  7.143274  0.022765    4.096029  \n",
            "45            0.109559  0.025735    0.795455  7.260525  0.022191    4.353268  \n",
            "46            0.109559  0.025000    0.829268  7.569160  0.021697    5.215441  \n"
          ]
        }
      ]
    }
  ]
}